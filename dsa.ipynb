{
 "cells": [
  {
   "cell_type": "code",
   "execution_count": 5,
   "metadata": {},
   "outputs": [
    {
     "name": "stdout",
     "output_type": "stream",
     "text": [
      "2000 is a leap year\n"
     ]
    }
   ],
   "source": [
    "# Python Program to check if a year is a  leap year.\n",
    "# Let x be the year\n",
    "\n",
    "x = int(input(\"Please enter the year to check: \"))\n",
    "LeapYear = x%4\n",
    "LeapCentury = x%100\n",
    "Leap2Century = x%400\n",
    "\n",
    "\n",
    "if LeapYear ==0 and LeapCentury !=0:\n",
    "    print(f'{x} is leap year')\n",
    "elif Leap2Century == 0 and LeapCentury==0:\n",
    "    print(f'{x} is a leap year')   \n",
    "else:\n",
    "    print(f'{x} is not a leap year') "
   ]
  },
  {
   "cell_type": "code",
   "execution_count": null,
   "metadata": {},
   "outputs": [],
   "source": []
  }
 ],
 "metadata": {
  "interpreter": {
   "hash": "d2859b4cdbbc7da51bd98c3044725268604db38ac416715b2ec3a8e71a0ce544"
  },
  "kernelspec": {
   "display_name": "Python 3.10.0 ('DataScience')",
   "language": "python",
   "name": "python3"
  },
  "language_info": {
   "codemirror_mode": {
    "name": "ipython",
    "version": 3
   },
   "file_extension": ".py",
   "mimetype": "text/x-python",
   "name": "python",
   "nbconvert_exporter": "python",
   "pygments_lexer": "ipython3",
   "version": "3.8.8"
  },
  "orig_nbformat": 4
 },
 "nbformat": 4,
 "nbformat_minor": 2
}
